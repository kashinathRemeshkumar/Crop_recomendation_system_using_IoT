{
 "cells": [
  {
   "cell_type": "code",
   "execution_count": 15,
   "metadata": {},
   "outputs": [
    {
     "name": "stderr",
     "output_type": "stream",
     "text": [
      "WARNING:absl:Compiled the loaded model, but the compiled metrics have yet to be built. `model.compile_metrics` will be empty until you train or evaluate the model.\n"
     ]
    },
    {
     "name": "stdout",
     "output_type": "stream",
     "text": [
      "INFO:tensorflow:Assets written to: C:\\Users\\luzif\\AppData\\Local\\Temp\\tmpaz81wewb\\assets\n"
     ]
    },
    {
     "name": "stderr",
     "output_type": "stream",
     "text": [
      "INFO:tensorflow:Assets written to: C:\\Users\\luzif\\AppData\\Local\\Temp\\tmpaz81wewb\\assets\n"
     ]
    },
    {
     "name": "stdout",
     "output_type": "stream",
     "text": [
      "Saved artifact at 'C:\\Users\\luzif\\AppData\\Local\\Temp\\tmpaz81wewb'. The following endpoints are available:\n",
      "\n",
      "* Endpoint 'serve'\n",
      "  args_0 (POSITIONAL_ONLY): TensorSpec(shape=(None, 7), dtype=tf.float32, name='input_layer_1')\n",
      "Output Type:\n",
      "  TensorSpec(shape=(None, 22), dtype=tf.float32, name=None)\n",
      "Captures:\n",
      "  1502564201296: TensorSpec(shape=(), dtype=tf.resource, name=None)\n",
      "  1502566280912: TensorSpec(shape=(), dtype=tf.resource, name=None)\n",
      "  1502566281296: TensorSpec(shape=(), dtype=tf.resource, name=None)\n",
      "  1502566280144: TensorSpec(shape=(), dtype=tf.resource, name=None)\n",
      "  1502566281680: TensorSpec(shape=(), dtype=tf.resource, name=None)\n",
      "  1502566275152: TensorSpec(shape=(), dtype=tf.resource, name=None)\n",
      "  1502566281104: TensorSpec(shape=(), dtype=tf.resource, name=None)\n",
      "  1502566279376: TensorSpec(shape=(), dtype=tf.resource, name=None)\n",
      "  1502566279952: TensorSpec(shape=(), dtype=tf.resource, name=None)\n",
      "  1502566277264: TensorSpec(shape=(), dtype=tf.resource, name=None)\n",
      "  1502566278032: TensorSpec(shape=(), dtype=tf.resource, name=None)\n",
      "  1502566277648: TensorSpec(shape=(), dtype=tf.resource, name=None)\n",
      "  1502566280336: TensorSpec(shape=(), dtype=tf.resource, name=None)\n",
      "  1502566276496: TensorSpec(shape=(), dtype=tf.resource, name=None)\n",
      "  1502566275728: TensorSpec(shape=(), dtype=tf.resource, name=None)\n",
      "  1502566282832: TensorSpec(shape=(), dtype=tf.resource, name=None)\n"
     ]
    }
   ],
   "source": [
    "import tensorflow as tf\n",
    "# Load the Keras model\n",
    "model = tf.keras.models.load_model(r\"Trained_models\\my_model.h5\")\n",
    "\n",
    "# Convert to TensorFlow Lite\n",
    "converter = tf.lite.TFLiteConverter.from_keras_model(model)\n",
    "tflite_model = converter.convert()\n",
    "\n",
    "# Save the converted model\n",
    "with open(r\"Trained_models\\model.tflite\", \"wb\") as f:\n",
    "    f.write(tflite_model)\n"
   ]
  },
  {
   "cell_type": "code",
   "execution_count": 16,
   "metadata": {},
   "outputs": [
    {
     "name": "stdout",
     "output_type": "stream",
     "text": [
      "Expected input shape: [1 7]\n",
      "Output: [[0. 0. 0. 0. 0. 0. 0. 0. 0. 0. 0. 0. 0. 0. 0. 0. 0. 1. 0. 0. 0. 0.]]\n"
     ]
    },
    {
     "name": "stderr",
     "output_type": "stream",
     "text": [
      "<>:7: SyntaxWarning: invalid escape sequence '\\m'\n",
      "<>:7: SyntaxWarning: invalid escape sequence '\\m'\n",
      "C:\\Users\\luzif\\AppData\\Local\\Temp\\ipykernel_16936\\3302036874.py:7: SyntaxWarning: invalid escape sequence '\\m'\n",
      "  interpreter = tf.lite.Interpreter(model_path=\"Trained_models\\model.tflite\")\n"
     ]
    }
   ],
   "source": [
    "##testing thhe created tflite file to check if it still works\n",
    "\n",
    "\n",
    "import numpy as np\n",
    "\n",
    "# Load the TFLite model\n",
    "interpreter = tf.lite.Interpreter(model_path=\"Trained_models\\model.tflite\")\n",
    "\n",
    "# Allocate tensors\n",
    "interpreter.allocate_tensors()\n",
    "\n",
    "# Get input and output tensors\n",
    "input_details = interpreter.get_input_details()\n",
    "output_details = interpreter.get_output_details()\n",
    "\n",
    "# Prepare input data (ensure the shape matches)\n",
    "input_shape = input_details[0]['shape']  # Example: [1, 7]\n",
    "print(f\"Expected input shape: {input_shape}\")\n",
    "\n",
    "# Ensure input_data matches the expected shape and type\n",
    "input_data = np.array([[30, 25, 31, 26.31270635, 98.62048026, 5.804965067, 208.1181381]], dtype=np.float32)\n",
    "\n",
    "# Verify the input shape\n",
    "if input_data.shape != tuple(input_shape):\n",
    "    print(f\"Error: Expected input shape {input_shape}, but got {input_data.shape}\")\n",
    "else:\n",
    "    # Set the input tensor\n",
    "    interpreter.set_tensor(input_details[0]['index'], input_data)\n",
    "\n",
    "    # Run the inference\n",
    "    interpreter.invoke()\n",
    "\n",
    "    # Get the output tensor\n",
    "    output_data = interpreter.get_tensor(output_details[0]['index'])\n",
    "    print(\"Output:\", output_data)\n",
    "   \n"
   ]
  },
  {
   "cell_type": "code",
   "execution_count": 19,
   "metadata": {},
   "outputs": [],
   "source": [
    "# Convert .tflite model to a C++ header file\n",
    "\n",
    "def convert_tflite_to_cpp_header(model_filename, header_filename):\n",
    "    with open(model_filename, \"rb\") as f:\n",
    "        model_data = f.read()\n",
    "\n",
    "    with open(header_filename, \"w\") as header_file:\n",
    "        header_file.write(\"#ifndef MODEL_H\\n\")\n",
    "        header_file.write(\"#define MODEL_H\\n\\n\")\n",
    "        header_file.write(\"const uint8_t g_model[] = {\\n\")\n",
    "\n",
    "        # Write byte values as comma-separated values in the C++ header\n",
    "        for i in range(0, len(model_data), 12): \n",
    "            header_file.write(\"  \")\n",
    "            header_file.write(\", \".join(f\"0x{byte:02x}\" for byte in model_data[i:i+12]))\n",
    "            header_file.write(\",\\n\")\n",
    "\n",
    "        header_file.write(\"};\\n\\n\")\n",
    "        header_file.write(\"#endif  // MODEL_H\\n\")\n",
    "\n",
    "convert_tflite_to_cpp_header(r'Trained_models\\model.tflite', r'Trained_models\\crop_rec_model.h')\n"
   ]
  }
 ],
 "metadata": {
  "kernelspec": {
   "display_name": "Python 3",
   "language": "python",
   "name": "python3"
  },
  "language_info": {
   "codemirror_mode": {
    "name": "ipython",
    "version": 3
   },
   "file_extension": ".py",
   "mimetype": "text/x-python",
   "name": "python",
   "nbconvert_exporter": "python",
   "pygments_lexer": "ipython3",
   "version": "3.12.7"
  }
 },
 "nbformat": 4,
 "nbformat_minor": 2
}
