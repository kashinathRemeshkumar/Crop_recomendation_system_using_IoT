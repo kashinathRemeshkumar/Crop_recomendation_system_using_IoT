{
 "cells": [
  {
   "cell_type": "code",
   "execution_count": 7,
   "metadata": {},
   "outputs": [
    {
     "name": "stdout",
     "output_type": "stream",
     "text": [
      "Means: [ 50.60318182  53.36995455  48.12190909  25.61299963  71.45676407\n",
      "   6.46468003 103.51642066]\n",
      "Standard deviations: [37.05265895 33.1636438  50.72527209  5.0899663  22.29141174  0.77907684\n",
      " 55.46333197]\n"
     ]
    },
    {
     "data": {
      "text/plain": [
       "' \\n#ifndef SCALER_PARAMS_H\\n#define SCALER_PARAMS_H\\n\\nconst float means[7] = {50.55181818,53.36272727,48.14909091,25.61624385,71.48177922,6.46948007,103.46365542};  \\nconst float std_devs[7] = {36.90894258,32.97838509,50.63641835,5.06259762,22.25875106,0.77376177,54.94589656}; \\n\\n#endif\\n\\n\\nsample h file\\n'"
      ]
     },
     "execution_count": 7,
     "metadata": {},
     "output_type": "execute_result"
    }
   ],
   "source": [
    "import pickle\n",
    "\n",
    "# Load the scaler\n",
    "with open(r'Trained_models\\scaler.pkl', 'rb') as f:\n",
    "    scaler = pickle.load(f)\n",
    "\n",
    "# Extract the parameters (e.g., for Min-Max or Standard Scaling)\n",
    "if hasattr(scaler, 'mean_'):  # StandardScaler\n",
    "    means = scaler.mean_\n",
    "    std_devs = scaler.scale_\n",
    "    print(\"Means:\", means)\n",
    "    print(\"Standard deviations:\", std_devs)\n",
    "elif hasattr(scaler, 'min_'):  # MinMaxScaler\n",
    "    mins = scaler.min_\n",
    "    maxs = scaler.scale_\n",
    "    print(\"Min values:\", mins)\n",
    "    print(\"Max values:\", maxs)\n",
    "else:\n",
    "    print(\"Scaler type not recognized!\")\n",
    "\n",
    "\n",
    "\n",
    "##we copy the outputed array to a seperate scalar.h file \n",
    "\n",
    "''' \n",
    "#ifndef SCALER_PARAMS_H\n",
    "#define SCALER_PARAMS_H\n",
    "\n",
    "const float means[7] = {50.55181818,53.36272727,48.14909091,25.61624385,71.48177922,6.46948007,103.46365542};  \n",
    "const float std_devs[7] = {36.90894258,32.97838509,50.63641835,5.06259762,22.25875106,0.77376177,54.94589656}; \n",
    "\n",
    "#endif\n",
    "\n",
    "\n",
    "sample h file\n",
    "'''"
   ]
  }
 ],
 "metadata": {
  "kernelspec": {
   "display_name": "Python 3",
   "language": "python",
   "name": "python3"
  },
  "language_info": {
   "codemirror_mode": {
    "name": "ipython",
    "version": 3
   },
   "file_extension": ".py",
   "mimetype": "text/x-python",
   "name": "python",
   "nbconvert_exporter": "python",
   "pygments_lexer": "ipython3",
   "version": "3.12.7"
  }
 },
 "nbformat": 4,
 "nbformat_minor": 2
}
