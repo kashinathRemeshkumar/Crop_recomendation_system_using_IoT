{
 "cells": [
  {
   "cell_type": "code",
   "execution_count": 1,
   "metadata": {},
   "outputs": [
    {
     "name": "stdout",
     "output_type": "stream",
     "text": [
      "Data split successfully. 20% moved to 'moved_data.csv'.\n"
     ]
    }
   ],
   "source": [
    "import pandas as pd\n",
    "import os\n",
    "\n",
    "# File paths\n",
    "input_file = \"Crop_recommendation_simulated.csv\"\n",
    "output_file = \"moved_data.csv\"\n",
    "\n",
    "# Load the dataset\n",
    "df = pd.read_csv(input_file)\n",
    "\n",
    "# Sample 20% of the data randomly\n",
    "sampled_df = df.sample(frac=0.2, random_state=42)\n",
    "\n",
    "# Drop the sampled rows from the original dataset\n",
    "remaining_df = df.drop(sampled_df.index)\n",
    "\n",
    "# Save the sampled data to a new file\n",
    "sampled_df.to_csv(output_file, index=False)\n",
    "\n",
    "# Save the remaining data back to the original file\n",
    "remaining_df.to_csv(input_file, index=False)\n",
    "\n",
    "print(\"Data split successfully. 20% moved to 'moved_data.csv'.\")\n"
   ]
  }
 ],
 "metadata": {
  "kernelspec": {
   "display_name": "Python 3",
   "language": "python",
   "name": "python3"
  },
  "language_info": {
   "codemirror_mode": {
    "name": "ipython",
    "version": 3
   },
   "file_extension": ".py",
   "mimetype": "text/x-python",
   "name": "python",
   "nbconvert_exporter": "python",
   "pygments_lexer": "ipython3",
   "version": "3.12.7"
  }
 },
 "nbformat": 4,
 "nbformat_minor": 2
}
